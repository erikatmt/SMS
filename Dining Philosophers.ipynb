{
 "cells": [
  {
   "cell_type": "code",
   "execution_count": 2,
   "metadata": {},
   "outputs": [],
   "source": [
    "def compute_successor(qi, qi_prev, qi_foll, h, e):\n",
    "    def has_lf(q):\n",
    "        return q in (4,6,8,9)\n",
    "    def has_rf(q):\n",
    "        return q in (5,7,8,9)\n",
    "    def needs_lf(q):\n",
    "        return q in (2,5)\n",
    "    def needs_rf(q):\n",
    "        return q in (3,4)\n",
    "    \n",
    "    if qi == 0:\n",
    "        return [(0,1-h), (1,h)]\n",
    "    if qi == 1:\n",
    "        return [(2,0.5), (3,0.5)]\n",
    "    if qi == 2:\n",
    "        if has_rf(qi_prev):\n",
    "            return [(2,1)]\n",
    "        if not has_rf(qi_prev) and not needs_rf(qi_prev):\n",
    "            return [(4,1)]\n",
    "        if not has_rf(qi_prev) and needs_rf(qi_prev):\n",
    "            return [(2,1)]\n",
    "    if qi == 3:\n",
    "        if has_lf(qi_foll):\n",
    "            return [(3,1)]\n",
    "        else:\n",
    "            return [(5,1)]\n",
    "    if qi == 4:\n",
    "        if has_lf(qi_foll):\n",
    "            return [(6,1)]\n",
    "        else:\n",
    "            return [(8,1)]\n",
    "    if qi == 5:\n",
    "        if has_rf(qi_prev):\n",
    "            return [(7,1)]\n",
    "        else:\n",
    "            return [(8,1)]\n",
    "    if qi in (6,7):\n",
    "        return [(1,1)]\n",
    "    \n",
    "    if qi == 8:\n",
    "        return [(9,1)]\n",
    "\n",
    "    if qi == 9:\n",
    "        return [(9,e), (0,1-e)]"
   ]
  },
  {
   "cell_type": "code",
   "execution_count": 7,
   "metadata": {},
   "outputs": [
    {
     "data": {
      "text/plain": [
       "[(2, 0.5), (3, 0.5)]"
      ]
     },
     "execution_count": 7,
     "metadata": {},
     "output_type": "execute_result"
    }
   ],
   "source": [
    "compute_successor(1,2,3,0.05,0.75)"
   ]
  },
  {
   "cell_type": "code",
   "execution_count": 14,
   "metadata": {},
   "outputs": [],
   "source": [
    "def cartesian_prod(list_to_extend, list_to_add):\n",
    "    for state, prob in list_to_add:\n",
    "        for state"
   ]
  },
  {
   "cell_type": "code",
   "execution_count": 15,
   "metadata": {},
   "outputs": [],
   "source": [
    "input_state = (1,2,3)\n",
    "h, e = 0.05, 0.75\n",
    "\n",
    "state_list = []\n",
    "for ind, _ in enumerate(input_state):\n",
    "    successor_state = compute_successor(input_state[ind], input_state[ind-1], input_state[(ind+1)%len(input_state)], h, e)\n",
    "    cartesian_prod(state_list, successor_state)"
   ]
  }
 ],
 "metadata": {
  "kernelspec": {
   "display_name": "Python 3",
   "language": "python",
   "name": "python3"
  },
  "language_info": {
   "codemirror_mode": {
    "name": "ipython",
    "version": 3
   },
   "file_extension": ".py",
   "mimetype": "text/x-python",
   "name": "python",
   "nbconvert_exporter": "python",
   "pygments_lexer": "ipython3",
   "version": "3.6.4"
  }
 },
 "nbformat": 4,
 "nbformat_minor": 2
}
